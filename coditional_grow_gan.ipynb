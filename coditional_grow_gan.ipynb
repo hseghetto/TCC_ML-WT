{
  "nbformat": 4,
  "nbformat_minor": 0,
  "metadata": {
    "colab": {
      "provenance": [],
      "toc_visible": true,
      "authorship_tag": "ABX9TyN6L+mkWxTQytl83gtLZTup",
      "include_colab_link": true
    },
    "kernelspec": {
      "name": "python3",
      "display_name": "Python 3"
    },
    "language_info": {
      "name": "python"
    },
    "accelerator": "GPU"
  },
  "cells": [
    {
      "cell_type": "markdown",
      "metadata": {
        "id": "view-in-github",
        "colab_type": "text"
      },
      "source": [
        "<a href=\"https://colab.research.google.com/github/hseghetto/TCC_ML-WT/blob/main/coditional_grow_gan.ipynb\" target=\"_parent\"><img src=\"https://colab.research.google.com/assets/colab-badge.svg\" alt=\"Open In Colab\"/></a>"
      ]
    },
    {
      "cell_type": "code",
      "metadata": {
        "id": "Cr_zhPMmMoUI"
      },
      "source": [
        "import tensorflow as tf\n",
        "tf.__version__\n",
        "\n",
        "import glob\n",
        "import imageio\n",
        "import matplotlib.pyplot as plt\n",
        "import numpy as np\n",
        "import os\n",
        "import PIL\n",
        "from tensorflow.keras import layers\n",
        "import time\n",
        "\n",
        "from IPython import display"
      ],
      "execution_count": null,
      "outputs": []
    },
    {
      "cell_type": "markdown",
      "metadata": {
        "id": "9zNKbz7bM0Pg"
      },
      "source": [
        "#Loading dataset\n"
      ]
    },
    {
      "cell_type": "code",
      "metadata": {
        "id": "HMyXgWFbMv-q",
        "colab": {
          "base_uri": "https://localhost:8080/"
        },
        "outputId": "2fc82206-7002-46bc-c5a1-7a9a218e3ddf"
      },
      "source": [
        "(train_images, train_labels), (_, _) = tf.keras.datasets.mnist.load_data()\n",
        "\n",
        "train_images = train_images.reshape(train_images.shape[0], 28, 28, 1).astype('float32')\n",
        "train_images = (train_images - 127.5) / 127.5  # Normalize the images to [-1, 1]\n",
        "\n",
        "print(train_images.shape)"
      ],
      "execution_count": null,
      "outputs": [
        {
          "output_type": "stream",
          "name": "stdout",
          "text": [
            "Downloading data from https://storage.googleapis.com/tensorflow/tf-keras-datasets/mnist.npz\n",
            "11490434/11490434 [==============================] - 0s 0us/step\n",
            "(60000, 28, 28, 1)\n"
          ]
        }
      ]
    },
    {
      "cell_type": "code",
      "metadata": {
        "colab": {
          "base_uri": "https://localhost:8080/"
        },
        "id": "RhtaEkJJabZZ",
        "outputId": "cf90dcc3-372d-493d-8754-7a20be61bdc2"
      },
      "source": [
        "upsample = tf.keras.layers.UpSampling2D(size=(2,2))\n",
        "downsample = tf.keras.layers.AveragePooling2D(pool_size=(2,2))\n",
        "\n",
        "print(upsample(train_images[0:10]).shape)\n",
        "print(downsample(train_images[0:10]).shape)"
      ],
      "execution_count": null,
      "outputs": [
        {
          "output_type": "stream",
          "name": "stdout",
          "text": [
            "(10, 56, 56, 1)\n",
            "(10, 14, 14, 1)\n"
          ]
        }
      ]
    },
    {
      "cell_type": "code",
      "metadata": {
        "id": "Yimn4c4mNJpG"
      },
      "source": [
        "BUFFER_SIZE = 60000\n",
        "BATCH_SIZE = 64\n",
        "noise_dim = 100\n",
        "\n",
        "# Batch and shuffle the data\n",
        "train_dataset14 = tf.data.Dataset.from_tensor_slices((downsample(train_images),train_labels)).shuffle(BUFFER_SIZE).batch(BATCH_SIZE)\n",
        "train_dataset28 = tf.data.Dataset.from_tensor_slices((train_images,train_labels)).shuffle(BUFFER_SIZE).batch(BATCH_SIZE)\n",
        "train_dataset56 = tf.data.Dataset.from_tensor_slices((upsample(train_images),train_labels)).shuffle(BUFFER_SIZE).batch(BATCH_SIZE)"
      ],
      "execution_count": null,
      "outputs": []
    },
    {
      "cell_type": "code",
      "metadata": {
        "colab": {
          "base_uri": "https://localhost:8080/"
        },
        "id": "ln8oDzjIBL-E",
        "outputId": "3a4a8a86-51bb-4746-9fb3-19459231a38c"
      },
      "source": [
        "for images, labels in train_dataset14:\n",
        "    pass\n",
        "print(images.shape)\n",
        "print(labels.shape)"
      ],
      "execution_count": null,
      "outputs": [
        {
          "output_type": "stream",
          "name": "stdout",
          "text": [
            "(32, 14, 14, 1)\n",
            "(32,)\n"
          ]
        }
      ]
    },
    {
      "cell_type": "code",
      "metadata": {
        "id": "HgAbRCFG98A1"
      },
      "source": [
        "class WeightedSum(tf.keras.layers.Add):\n",
        "\t# init with default value\n",
        "\tdef __init__(self, alpha=0.0, **kwargs):\n",
        "\t\tsuper(WeightedSum, self).__init__(**kwargs)\n",
        "\t\tself.alpha = tf.keras.backend.variable(alpha, name='ws_alpha')\n",
        "\n",
        "\t# output a weighted sum of inputs\n",
        "\tdef _merge_function(self, inputs):\n",
        "\t\t# only supports a weighted sum of two inputs\n",
        "\t\tassert (len(inputs) == 2)\n",
        "\t\t# ((1-a) * input1) + (a * input2)\n",
        "\t\toutput = ((1.0 - self.alpha) * inputs[0]) + (self.alpha * inputs[1])\n",
        "\t\treturn output\n",
        "\n",
        "class LeakyConv2D(layers.Layer):\n",
        "    def __init__(self, channels, kernel=(5,5), strides=(1,1)):\n",
        "        super(LeakyConv2D, self).__init__()\n",
        "        self.Conv = layers.Conv2D(channels, kernel, strides, padding ='same', use_bias=False)\n",
        "        self.Norm = layers.BatchNormalization()\n",
        "        self.ReLU = layers.LeakyReLU()\n",
        "\n",
        "    def call(self, inputs):\n",
        "        x = self.Conv(inputs)\n",
        "        x = self.Norm(x)\n",
        "        out = self.ReLU(x)\n",
        "\n",
        "        return out\n",
        "\n",
        "class LeakyConv2DTranspose(layers.Layer):\n",
        "    def __init__(self, channels, kernel=(5,5), strides=(1,1)):\n",
        "        super(LeakyConv2DTranspose, self).__init__()\n",
        "        self.Conv = layers.Conv2DTranspose(channels, kernel, strides, padding ='same', use_bias=False)\n",
        "        self.Norm = layers.BatchNormalization()\n",
        "        self.ReLU = layers.LeakyReLU()\n",
        "\n",
        "    def call(self, inputs):\n",
        "        x = self.Conv(inputs)\n",
        "        x = self.Norm(x)\n",
        "        out = self.ReLU(x)\n",
        "\n",
        "        return out\n",
        "\n",
        "class LabelEmbedding(layers.Layer):\n",
        "    def __init__(self, out_shape, label_dim=10, embed_size=50, label_size=1):\n",
        "        super(LabelEmbedding, self).__init__()\n",
        "        self.Embedding = layers.Embedding(label_dim, embed_size ,input_length=label_size)\n",
        "        self.Flatten = layers.Flatten()\n",
        "        self.Dense = layers.Dense(np.prod(out_shape))\n",
        "        self.Reshape = layers.Reshape(out_shape)\n",
        "\n",
        "    def call(self, inputs):\n",
        "\n",
        "        x = self.Embedding(inputs)\n",
        "        x = self.Flatten(x)\n",
        "        x = self.Dense(x)\n",
        "        out = self.Reshape(x)\n",
        "\n",
        "        return out\n",
        "\n",
        "\n"
      ],
      "execution_count": null,
      "outputs": []
    },
    {
      "cell_type": "markdown",
      "metadata": {
        "id": "lNaeGnesNN69"
      },
      "source": [
        "#Model"
      ]
    },
    {
      "cell_type": "markdown",
      "metadata": {
        "id": "JWEoXEh-NSXX"
      },
      "source": [
        "##Generator"
      ]
    },
    {
      "cell_type": "code",
      "metadata": {
        "id": "Fx2XfENw-8bL"
      },
      "source": [
        "def generator_model():\n",
        "\n",
        "    input_shape=(noise_dim,)\n",
        "    input1 =  layers.Input(input_shape)\n",
        "\n",
        "    x = layers.Dense(7*7*32, use_bias = False)(input1)\n",
        "    x = layers.BatchNormalization()(x)\n",
        "    x = layers.LeakyReLU()(x)\n",
        "\n",
        "    label = layers.Input(1,)\n",
        "    y = LabelEmbedding((7*7*32,))(label)\n",
        "\n",
        "    x = layers.Concatenate()((x,y))\n",
        "\n",
        "    x = layers.Reshape((7,7,64))(x)\n",
        "\n",
        "    x = LeakyConv2DTranspose(64, strides = (2,2))(x)\n",
        "\n",
        "    x = LeakyConv2DTranspose(64)(x)\n",
        "\n",
        "    x = layers.Conv2DTranspose(1, (5, 5), strides=(  1, 1), padding='same', use_bias=False)(x) #to grayscale\n",
        "\n",
        "\n",
        "    model = tf.keras.Model([input1,label],x)\n",
        "    print(\"Model created succesfully\")\n",
        "    return model"
      ],
      "execution_count": null,
      "outputs": []
    },
    {
      "cell_type": "code",
      "metadata": {
        "id": "YDyQpqvFEl2s"
      },
      "source": [
        "def generator_expand(old_gen):\n",
        "    input = old_gen.inputs\n",
        "    x1 = old_gen.layers[-1].output\n",
        "    x1 = upsample(x1)\n",
        "\n",
        "    x2 = old_gen.layers[-1].input\n",
        "\n",
        "    x2 = LeakyConv2DTranspose(64, strides = (2,2))(x2)\n",
        "    x2 = LeakyConv2DTranspose(64)(x2)\n",
        "\n",
        "    x2 = layers.Conv2DTranspose(1, (5, 5), strides=(  1, 1), padding='same', use_bias=False)(x2)\n",
        "\n",
        "    out = WeightedSum()([x1,x2])\n",
        "\n",
        "    model_weighted = tf.keras.Model(input,out)\n",
        "    model = tf.keras.Model(input,x2)\n",
        "\n",
        "    return model_weighted, model"
      ],
      "execution_count": null,
      "outputs": []
    },
    {
      "cell_type": "code",
      "metadata": {
        "id": "pQOAcjfeFoUt",
        "colab": {
          "base_uri": "https://localhost:8080/"
        },
        "outputId": "1e62c02e-9eaa-4abf-e80d-f46f7697a541"
      },
      "source": [
        "gen = generator_model()\n",
        "gen.summary()\n",
        "tf.keras.utils.plot_model(gen,to_file=\"gen.png\")\n",
        "\n",
        "new_gen,_ = generator_expand(gen)\n",
        "new_gen.summary()\n",
        "tf.keras.utils.plot_model(new_gen,to_file=\"gen_exp.png\")"
      ],
      "execution_count": null,
      "outputs": [
        {
          "output_type": "stream",
          "name": "stdout",
          "text": [
            "Model created succesfully\n",
            "Model: \"model\"\n",
            "__________________________________________________________________________________________________\n",
            " Layer (type)                Output Shape                 Param #   Connected to                  \n",
            "==================================================================================================\n",
            " input_1 (InputLayer)        [(None, 100)]                0         []                            \n",
            "                                                                                                  \n",
            " dense (Dense)               (None, 1568)                 156800    ['input_1[0][0]']             \n",
            "                                                                                                  \n",
            " batch_normalization (Batch  (None, 1568)                 6272      ['dense[0][0]']               \n",
            " Normalization)                                                                                   \n",
            "                                                                                                  \n",
            " input_2 (InputLayer)        [(None, 1)]                  0         []                            \n",
            "                                                                                                  \n",
            " leaky_re_lu (LeakyReLU)     (None, 1568)                 0         ['batch_normalization[0][0]'] \n",
            "                                                                                                  \n",
            " label_embedding (LabelEmbe  (None, 1568)                 80468     ['input_2[0][0]']             \n",
            " dding)                                                                                           \n",
            "                                                                                                  \n",
            " concatenate (Concatenate)   (None, 3136)                 0         ['leaky_re_lu[0][0]',         \n",
            "                                                                     'label_embedding[0][0]']     \n",
            "                                                                                                  \n",
            " reshape_1 (Reshape)         (None, 7, 7, 64)             0         ['concatenate[0][0]']         \n",
            "                                                                                                  \n",
            " leaky_conv2d_transpose (Le  (None, 14, 14, 64)           102656    ['reshape_1[0][0]']           \n",
            " akyConv2DTranspose)                                                                              \n",
            "                                                                                                  \n",
            " leaky_conv2d_transpose_1 (  (None, 14, 14, 64)           102656    ['leaky_conv2d_transpose[0][0]\n",
            " LeakyConv2DTranspose)                                              ']                            \n",
            "                                                                                                  \n",
            " conv2d_transpose_2 (Conv2D  (None, 14, 14, 1)            1600      ['leaky_conv2d_transpose_1[0][\n",
            " Transpose)                                                         0]']                          \n",
            "                                                                                                  \n",
            "==================================================================================================\n",
            "Total params: 450452 (1.72 MB)\n",
            "Trainable params: 447060 (1.71 MB)\n",
            "Non-trainable params: 3392 (13.25 KB)\n",
            "__________________________________________________________________________________________________\n",
            "Model: \"model_1\"\n",
            "__________________________________________________________________________________________________\n",
            " Layer (type)                Output Shape                 Param #   Connected to                  \n",
            "==================================================================================================\n",
            " input_1 (InputLayer)        [(None, 100)]                0         []                            \n",
            "                                                                                                  \n",
            " dense (Dense)               (None, 1568)                 156800    ['input_1[0][0]']             \n",
            "                                                                                                  \n",
            " batch_normalization (Batch  (None, 1568)                 6272      ['dense[0][0]']               \n",
            " Normalization)                                                                                   \n",
            "                                                                                                  \n",
            " input_2 (InputLayer)        [(None, 1)]                  0         []                            \n",
            "                                                                                                  \n",
            " leaky_re_lu (LeakyReLU)     (None, 1568)                 0         ['batch_normalization[0][0]'] \n",
            "                                                                                                  \n",
            " label_embedding (LabelEmbe  (None, 1568)                 80468     ['input_2[0][0]']             \n",
            " dding)                                                                                           \n",
            "                                                                                                  \n",
            " concatenate (Concatenate)   (None, 3136)                 0         ['leaky_re_lu[0][0]',         \n",
            "                                                                     'label_embedding[0][0]']     \n",
            "                                                                                                  \n",
            " reshape_1 (Reshape)         (None, 7, 7, 64)             0         ['concatenate[0][0]']         \n",
            "                                                                                                  \n",
            " leaky_conv2d_transpose (Le  (None, 14, 14, 64)           102656    ['reshape_1[0][0]']           \n",
            " akyConv2DTranspose)                                                                              \n",
            "                                                                                                  \n",
            " leaky_conv2d_transpose_1 (  (None, 14, 14, 64)           102656    ['leaky_conv2d_transpose[0][0]\n",
            " LeakyConv2DTranspose)                                              ']                            \n",
            "                                                                                                  \n",
            " leaky_conv2d_transpose_2 (  (None, 28, 28, 64)           102656    ['leaky_conv2d_transpose_1[0][\n",
            " LeakyConv2DTranspose)                                              0]']                          \n",
            "                                                                                                  \n",
            " conv2d_transpose_2 (Conv2D  (None, 14, 14, 1)            1600      ['leaky_conv2d_transpose_1[0][\n",
            " Transpose)                                                         0]']                          \n",
            "                                                                                                  \n",
            " leaky_conv2d_transpose_3 (  (None, 28, 28, 64)           102656    ['leaky_conv2d_transpose_2[0][\n",
            " LeakyConv2DTranspose)                                              0]']                          \n",
            "                                                                                                  \n",
            " up_sampling2d (UpSampling2  (None, 28, 28, 1)            0         ['conv2d_transpose_2[0][0]']  \n",
            " D)                                                                                               \n",
            "                                                                                                  \n",
            " conv2d_transpose_5 (Conv2D  (None, 28, 28, 1)            1600      ['leaky_conv2d_transpose_3[0][\n",
            " Transpose)                                                         0]']                          \n",
            "                                                                                                  \n",
            " weighted_sum (WeightedSum)  (None, 28, 28, 1)            1         ['up_sampling2d[0][0]',       \n",
            "                                                                     'conv2d_transpose_5[0][0]']  \n",
            "                                                                                                  \n",
            "==================================================================================================\n",
            "Total params: 657365 (2.51 MB)\n",
            "Trainable params: 653717 (2.49 MB)\n",
            "Non-trainable params: 3648 (14.25 KB)\n",
            "__________________________________________________________________________________________________\n"
          ]
        },
        {
          "output_type": "execute_result",
          "data": {
            "image/png": "[encoded data removed]",
            "text/plain": [
              "<IPython.core.display.Image object>"
            ]
          },
          "metadata": {},
          "execution_count": 9
        }
      ]
    },
    {
      "cell_type": "markdown",
      "metadata": {
        "id": "eFW-tuM6bFCu"
      },
      "source": [
        "##Discriminator"
      ]
    },
    {
      "cell_type": "code",
      "metadata": {
        "id": "a3MkhVHWauEg"
      },
      "source": [
        "def discriminator_model():\n",
        "    input_shape = (14,14,1)\n",
        "    input1 = layers.Input(input_shape)\n",
        "\n",
        "    x = LeakyConv2D(1)(input1)\n",
        "\n",
        "    label = layers.Input(1)\n",
        "\n",
        "    y = LabelEmbedding((14,14,1,))(label)\n",
        "\n",
        "    x = layers.Concatenate()((x,y))\n",
        "\n",
        "    x = LeakyConv2D(64)(x)\n",
        "    x = LeakyConv2D(64,strides = (2,2))(x)\n",
        "\n",
        "    x = layers.Flatten()(x)\n",
        "    x = layers.Dense(1)(x)\n",
        "\n",
        "    model = tf.keras.Model((input1,label),x)\n",
        "    return model"
      ],
      "execution_count": null,
      "outputs": []
    },
    {
      "cell_type": "code",
      "metadata": {
        "id": "4YsyKyFALF27"
      },
      "source": [
        "def discriminator_expand(old_disc):\n",
        "    size = old_disc.inputs[0].shape[1]*2\n",
        "    input_shape = (size,size,1)\n",
        "\n",
        "    input1 = layers.Input(input_shape)\n",
        "    x1 = LeakyConv2D(1)(input1)\n",
        "\n",
        "    label = layers.Input(1)\n",
        "    y1 = LabelEmbedding((size,size,1,))(label)\n",
        "\n",
        "    x1 = layers.Concatenate()((x1,y1))\n",
        "    x1 = LeakyConv2D(64)(x1)\n",
        "    x1 = LeakyConv2D(64, strides=(2,2))(x1)\n",
        "\n",
        "    x2 = downsample(input1)\n",
        "    x2 = old_disc.layers[2](x2)\n",
        "\n",
        "    y2 = old_disc.layers[3](label)\n",
        "\n",
        "    x2 = old_disc.layers[4]((x2,y2))\n",
        "    x2 = old_disc.layers[5](x2)\n",
        "\n",
        "    x2 = WeightedSum()((x2,x1))\n",
        "\n",
        "    for old_layer in old_disc.layers[6:]:\n",
        "        x1 = old_layer(x1)\n",
        "        x2 = old_layer(x2)\n",
        "\n",
        "    model_weighted = tf.keras.Model([input1,label],x2)\n",
        "    model = tf.keras.Model([input1,label],x1)\n",
        "    return model_weighted, model\n"
      ],
      "execution_count": null,
      "outputs": []
    },
    {
      "cell_type": "code",
      "metadata": {
        "id": "T649HKFMMuAW"
      },
      "source": [
        "disc = discriminator_model()\n",
        "\n",
        "disc.summary()\n",
        "tf.keras.utils.plot_model(disc,to_file=\"disc.png\")\n",
        "\n",
        "new_disc, disc = discriminator_expand(disc)\n",
        "\n",
        "new_disc.summary()\n",
        "tf.keras.utils.plot_model(disc,to_file=\"disc_exp.png\")"
      ],
      "execution_count": null,
      "outputs": []
    },
    {
      "cell_type": "markdown",
      "metadata": {
        "id": "iyU5bXz3bgmS"
      },
      "source": [
        "#Optimizer & Losses"
      ]
    },
    {
      "cell_type": "code",
      "metadata": {
        "id": "2S9zKBdINM0g"
      },
      "source": [
        "#@tf.function\n",
        "def generator_loss(fake_output):\n",
        "    return tf.reduce_sum(fake_output)"
      ],
      "execution_count": null,
      "outputs": []
    },
    {
      "cell_type": "code",
      "metadata": {
        "id": "j7dq5wuTbLa_"
      },
      "source": [
        "#@tf.function\n",
        "def discriminator_loss(real_output, fake_output, penalty = 0):\n",
        "    return tf.reduce_sum(real_output - fake_output) + penalty"
      ],
      "execution_count": null,
      "outputs": []
    },
    {
      "cell_type": "code",
      "metadata": {
        "id": "dflOvHECbj0V"
      },
      "source": [
        "c = 0.1\n",
        "generator_optimizer = tf.keras.optimizers.RMSprop(1e-4)\n",
        "#discriminator_optimizer = tf.keras.optimizers.RMSprop(1e-4,clipnorm = c) #using clipnorm to satisfy WGAN requirements\n",
        "discriminator_optimizer = tf.keras.optimizers.RMSprop(1e-4)\n",
        "\n",
        "#generator_optimizer = tf.keras.optimizers.Adam(learning_rate=0.001, beta_1=0.0, beta_2=0.99, epsilon=1e-08)\n",
        "#discriminator_optimizer = tf.keras.optimizers.Adam(learning_rate=0.001, beta_1=0.0, beta_2=0.99, epsilon=1e-08)"
      ],
      "execution_count": null,
      "outputs": []
    },
    {
      "cell_type": "markdown",
      "metadata": {
        "id": "QPRne7EAb3Ng"
      },
      "source": [
        "#Training Loop"
      ]
    },
    {
      "cell_type": "code",
      "metadata": {
        "id": "dRMANLW4b82f"
      },
      "source": [
        "noise_dim = 100\n",
        "num_examples_to_generate = 16\n",
        "\n",
        "# You will reuse this seed overtime (so it's easier)\n",
        "# to visualize progress in the animated GIF)\n",
        "noise = tf.random.normal([num_examples_to_generate, noise_dim])\n",
        "seed = (noise, labels[0:num_examples_to_generate])"
      ],
      "execution_count": null,
      "outputs": []
    },
    {
      "cell_type": "code",
      "metadata": {
        "id": "34dyUG36VYM3"
      },
      "source": [
        "#@tf.function\n",
        "def train_step(images,labels):\n",
        "    noise = tf.random.normal([BATCH_SIZE, noise_dim])\n",
        "\n",
        "    with tf.GradientTape() as gen_tape, tf.GradientTape() as disc_tape:\n",
        "        generated_images = generator((noise,labels), training=True)\n",
        "\n",
        "        real_output = discriminator((images,labels), training=True)\n",
        "        fake_output = discriminator((generated_images,labels), training=True)\n",
        "\n",
        "        gen_loss = generator_loss(fake_output)\n",
        "        disc_loss = discriminator_loss(real_output, fake_output)\n",
        "\n",
        "    gradients_of_generator = gen_tape.gradient(gen_loss, generator.trainable_variables)\n",
        "    gradients_of_discriminator = disc_tape.gradient(disc_loss, discriminator.trainable_variables)\n",
        "\n",
        "    generator_optimizer.apply_gradients(zip(gradients_of_generator, generator.trainable_variables))\n",
        "    discriminator_optimizer.apply_gradients(zip(gradients_of_discriminator, discriminator.trainable_variables))"
      ],
      "execution_count": null,
      "outputs": []
    },
    {
      "cell_type": "code",
      "metadata": {
        "id": "ReeYXO-Z0leJ"
      },
      "source": [
        "#@tf.function #cant use same tf function with different model shapes\n",
        "def train_step_gp(images,labels):\n",
        "    noise = tf.random.normal([images.shape[0], noise_dim])\n",
        "    e = tf.random.uniform([images.shape[0],1,1,1],minval = 0,maxval = 1)\n",
        "\n",
        "    with tf.GradientTape(persistent=True) as tape:\n",
        "        with tf.GradientTape() as penalty_tape:\n",
        "            generated_images = generator((noise,labels), training=True)\n",
        "\n",
        "            weighted_images = e*images + (1-e)*generated_images\n",
        "\n",
        "            weighted_output = discriminator((weighted_images,labels), training = True)\n",
        "\n",
        "        real_output = discriminator((images,labels), training = True)\n",
        "        fake_output = discriminator((generated_images,labels), training = True)\n",
        "\n",
        "        penalty = penalty_tape.gradient(weighted_output,weighted_images) #gradient\n",
        "        penalty = tf.sqrt(tf.reduce_sum(tf.square(penalty), axis=[1, 2, 3])) #norm\n",
        "        penalty = 100*tf.reduce_mean(tf.math.square(penalty-1)) # k*(norm -1)^2\n",
        "\n",
        "        gen_loss = generator_loss(fake_output)\n",
        "        disc_loss = discriminator_loss(real_output, fake_output, penalty)\n",
        "\n",
        "\n",
        "    gradients_of_generator = tape.gradient(gen_loss, generator.trainable_variables)\n",
        "    gradients_of_discriminator = tape.gradient(disc_loss, discriminator.trainable_variables)\n",
        "\n",
        "    generator_optimizer.apply_gradients(zip(gradients_of_generator, generator.trainable_variables))\n",
        "    discriminator_optimizer.apply_gradients(zip(gradients_of_discriminator, discriminator.trainable_variables))"
      ],
      "execution_count": null,
      "outputs": []
    },
    {
      "cell_type": "code",
      "metadata": {
        "id": "miYsdb8BghMN"
      },
      "source": [
        "def generate_and_save_images(model, epoch, test_input):\n",
        "  # Notice `training` is set to False.\n",
        "  # This is so all layers run in inference mode (batchnorm).\n",
        "  predictions = model(test_input, training=False)\n",
        "\n",
        "  fig = plt.figure(figsize=(4, 4))\n",
        "\n",
        "  for i in range(predictions.shape[0]):\n",
        "      plt.subplot(4, 4, i+1)\n",
        "      plt.imshow(predictions[i, :, :, 0] * 127.5 + 127.5, cmap='gray')\n",
        "      plt.axis('off')\n",
        "\n",
        "  plt.savefig('nn_{}_step_{}_epoch_{:04d}.png'.format(NN,TRAIN,epoch))\n",
        "  plt.show()"
      ],
      "execution_count": null,
      "outputs": []
    },
    {
      "cell_type": "code",
      "metadata": {
        "id": "KBNyjvi6eyuD"
      },
      "source": [
        "def train(dataset,Epochs):\n",
        "\n",
        "    print(\"Starting training\")\n",
        "    for epoch in range(Epochs):\n",
        "        start = time.time()\n",
        "\n",
        "        for image_batch, label_batch in dataset:\n",
        "            train_step_gp(image_batch,label_batch)\n",
        "\n",
        "        # Produce images for the GIF as you go\n",
        "        display.clear_output(wait=True)\n",
        "        generate_and_save_images(generator,\n",
        "                                epoch + 1,seed)\n",
        "\n",
        "        print (\"Time for epoch {}/{} is {} sec\".format(epoch + 1,Epochs, time.time()-start))"
      ],
      "execution_count": null,
      "outputs": []
    },
    {
      "cell_type": "code",
      "metadata": {
        "id": "LepPenYZhuBI"
      },
      "source": [
        "def train_fade_in(dataset,Epochs):\n",
        "\n",
        "    print(\"Starting training with fade-in\")\n",
        "    for epoch in range(Epochs):\n",
        "        start = time.time()\n",
        "        #print(\"Epoch {}\".format(epoch+1))\n",
        "\n",
        "        alpha = (epoch+1)/Epochs #0 to 1\n",
        "        for image_batch, label_batch in dataset:\n",
        "            #print(\".\",end=\"\")\n",
        "            for layer in discriminator.layers:\n",
        "                if isinstance(layer,WeightedSum):\n",
        "                    tf.keras.backend.set_value(layer.alpha,alpha)\n",
        "            for layer in generator.layers:\n",
        "                if isinstance(layer,WeightedSum):\n",
        "                    tf.keras.backend.set_value(layer.alpha,alpha)\n",
        "\n",
        "            train_step_gp(image_batch,label_batch)\n",
        "\n",
        "\n",
        "        # Produce images for the GIF as you go\n",
        "        display.clear_output(wait=True)\n",
        "        generate_and_save_images(generator,\n",
        "                                epoch + 1,seed)\n",
        "\n",
        "        print (\"Time for epoch {}/{} is {} sec\".format(epoch + 1,Epochs, time.time()-start))"
      ],
      "execution_count": null,
      "outputs": []
    },
    {
      "cell_type": "markdown",
      "metadata": {
        "id": "UAn0BMvCOKw8"
      },
      "source": [
        "### Testing"
      ]
    },
    {
      "cell_type": "code",
      "metadata": {
        "id": "VPpIwPQuKRpk"
      },
      "source": [
        "%%time\n",
        "for i in range(10):\n",
        "    image = tf.random.normal([1,2,2,1])\n",
        "    upsize = upsample(image)\n",
        "print(upsize.shape)\n",
        "print(type(upsize))\n",
        "print(type(image))\n",
        "\n",
        "for i in range(5):\n",
        "      plt.subplot(5, 5, 5*i+1)\n",
        "      plt.imshow(downsample(train_images[i:i+1, :, :, :])[0,:,:,0] * 127.5 + 127.5, cmap='gray')\n",
        "      plt.axis('off')\n",
        "\n",
        "      plt.subplot(5, 5, 5*i+2)\n",
        "      plt.imshow(upsample(downsample(train_images[i:i+1, :, :, :]))[0,:,:,0] * 127.5 + 127.5, cmap='gray')\n",
        "      plt.axis('off')\n",
        "\n",
        "      plt.subplot(5, 5, 5*i+3)\n",
        "      plt.imshow(train_images[i, :, :, 0] * 127.5 + 127.5, cmap='gray')\n",
        "      plt.axis('off')\n",
        "\n",
        "      plt.subplot(5, 5, 5*i+4)\n",
        "      plt.imshow(downsample(upsample(train_images[i:i+1, :, :, :]))[0,:,:,0] * 127.5 + 127.5, cmap='gray')\n",
        "      plt.axis('off')\n",
        "\n",
        "      plt.subplot(5, 5, 5*i+5)\n",
        "      plt.imshow(upsample(train_images[i:i+1, :, :, :])[0,:,:,0] * 127.5 + 127.5, cmap='gray')\n",
        "      plt.axis('off')"
      ],
      "execution_count": null,
      "outputs": []
    },
    {
      "cell_type": "markdown",
      "metadata": {
        "id": "YXXvUaDAb9Xo"
      },
      "source": [
        "#Model training"
      ]
    },
    {
      "cell_type": "code",
      "metadata": {
        "id": "-92xFeDpnBYM"
      },
      "source": [
        "try:\n",
        "    NN = NN + 0\n",
        "except:\n",
        "    NN = 0"
      ],
      "execution_count": null,
      "outputs": []
    },
    {
      "cell_type": "code",
      "metadata": {
        "id": "YRBjXKypb9vF"
      },
      "source": [
        "NN = NN +1\n",
        "TRAIN = 0\n",
        "\n",
        "og_train_step = train_step_gp\n",
        "train_step_gp = tf.function()(og_train_step)\n",
        "\n",
        "generator = generator_model()\n",
        "discriminator = discriminator_model()\n",
        "\n",
        "train(train_dataset14,10)\n",
        "TRAIN = TRAIN+1\n",
        "\n",
        "generator,g = generator_expand(generator)\n",
        "discriminator,d = discriminator_expand(discriminator)\n",
        "\n",
        "train_step_gp = tf.function()(og_train_step)\n",
        "\n",
        "train_fade_in(train_dataset28,10)\n",
        "TRAIN = TRAIN+1\n",
        "\n",
        "train(train_dataset28,10)\n",
        "TRAIN = TRAIN+1\n",
        "\n",
        "generator,g = generator_expand(g)\n",
        "discriminator,d = discriminator_expand(d)\n",
        "\n",
        "train_step_gp = tf.function()(og_train_step)\n",
        "\n",
        "train_fade_in(train_dataset56,10)\n",
        "TRAIN = TRAIN+1\n",
        "\n",
        "train(train_dataset56,10)\n",
        "TRAIN = TRAIN+1"
      ],
      "execution_count": null,
      "outputs": []
    },
    {
      "cell_type": "code",
      "metadata": {
        "id": "aBQ6Z52fY-ok"
      },
      "source": [
        "for i in range(10):\n",
        "    seed = (noise,tf.ones(num_examples_to_generate)*i)\n",
        "\n",
        "    predictions = generator(seed, training=False)\n",
        "\n",
        "    fig = plt.figure(figsize=(4, 4))\n",
        "\n",
        "    for i in range(predictions.shape[0]):\n",
        "        plt.subplot(4, 4, i+1)\n",
        "        plt.imshow(predictions[i, :, :, 0] * 127.5 + 127.5, cmap='gray')\n",
        "        plt.axis('off')\n",
        "    plt.show()"
      ],
      "execution_count": null,
      "outputs": []
    }
  ]
}