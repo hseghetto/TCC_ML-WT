{
 "cells": [
  {
   "cell_type": "markdown",
   "metadata": {},
   "source": [
    "# Pontifícia Universidade Católica do Rio de Janeiro\n",
    "\n",
    "(Pedro Henrique Domingues - Departamento de Engenharia Mecânica)\n",
    "\n",
    "**Pesquisa:** Detecção e estimação de defeitos em pás de turbinas eólicas sujeitas a variações climáticas a partir do monitoramento de sinais de vibração  e *machine learning*.\n",
    "\n",
    "**Dados:** Os dados utilizados estão presente em https://github.com/ETH-WindMil/Sonkyo-Benchmark"
   ]
  },
  {
   "cell_type": "markdown",
   "metadata": {},
   "source": [
    "**Importing Packages**"
   ]
  },
  {
   "cell_type": "code",
   "execution_count": 1,
   "metadata": {},
   "outputs": [],
   "source": [
    "import lvm_read\n",
    "import os\n",
    "import pickle\n",
    "import numpy as np\n",
    "import pandas as pd\n",
    "import matplotlib.pyplot as plt\n",
    "import string"
   ]
  },
  {
   "cell_type": "markdown",
   "metadata": {},
   "source": [
    "**Functions**"
   ]
  },
  {
   "cell_type": "code",
   "execution_count": 2,
   "metadata": {},
   "outputs": [],
   "source": [
    "from WTManager import WTmanager\n",
    "from WTManager import get_signal, approx"
   ]
  },
  {
   "cell_type": "code",
   "execution_count": null,
   "metadata": {
    "scrolled": true
   },
   "outputs": [],
   "source": [
    "#file_path = 'D:\\\\Datasets\\\\Wind-Turbines\\\\'\n",
    "file_path = 'C:\\\\Users\\\\hss19\\\\Documents\\\\Github\\\\TCC\\\\code\\\\'\n",
    "manager = WTmanager(file_path)\n",
    "\n",
    "# To obtain the table, you may use: table = manager.get_all_files() and export with table.to_excel('table.xlsx')"
   ]
  },
  {
   "cell_type": "markdown",
   "metadata": {},
   "source": [
    "**Loading Section**\n",
    "\n",
    "In the future, you'll may load the files through the guide file.\n",
    "\n",
    "PS: Remember to always check if the content was already unzipped"
   ]
  },
  {
   "cell_type": "markdown",
   "metadata": {},
   "source": [
    "How to get signals:"
   ]
  },
  {
   "cell_type": "code",
   "execution_count": 6,
   "metadata": {},
   "outputs": [
    {
     "name": "stdout",
     "output_type": "stream",
     "text": [
      "LVM Keys: dict_keys(['Decimal_Separator', 'Writer_Version', 'Reader_Version', 'Separator', 'Multi_Headings', 'X_Columns', 'Time_Pref', 'Operator', 'Date', 'Time', 0, 'Segments'])\n",
      "LVM presents 40 channels\n",
      "With the names: ['X_Value', 'Ch1', 'Ch2', 'Ch3', 'Ch4', 'Ch5', 'Ch6', 'Ch7', 'Ch8', 'K7861_H', 'K7862_H', 'K7861_T', 'K7862_T', 'force', 'Strain_1', 'Strain_2', 'Strain_3_rosette_A', 'Strain_4_rosette_B', 'Strain_5_rosette_C', 'Strain_6_2', 'Strain_7_2', 'Strain_8', 'Strain_9_2', 'Strain_10_2', 'Strain_11_2', 'Strain_12_rosette_A', 'Strain_13_rosette_B', 'Strain_14_rosette_C', 'Strain_15_2', 'Strain_16_temp_comp', 'Strain_17_rosette_A', 'Strain_18_rosette_B', 'Strain_19_rosette_C', 'Strain_20_rosette_A', 'Strain_21_rosette_B', 'Strain_22_rosette_C', 'Strain_23', 'Strain_24', 'Strain_16_temp_comp (Filtered)', 'Comment']\n"
     ]
    }
   ],
   "source": [
    "##### Selecting file #####\n",
    "case = 'R'\n",
    "temp = '(+00)'\n",
    "scheme = '2'\n",
    "wave = 'white_noise_1'\n",
    "cR_t0_s1_wSS = manager.load(case, temp, scheme, wave, flag_output=True)\n",
    "\n",
    "cR_t0_s1_wSS_time = get_signal(cR_t0_s1_wSS, \"X_Value\")\n",
    "cR_t0_s1_wSS_force = get_signal(cR_t0_s1_wSS, \"Strain_6_2\")"
   ]
  },
  {
   "cell_type": "code",
   "execution_count": 7,
   "metadata": {},
   "outputs": [
    {
     "data": {
      "text/plain": [
       "211582"
      ]
     },
     "execution_count": 7,
     "metadata": {},
     "output_type": "execute_result"
    }
   ],
   "source": [
    "cR_t0_s1_wSS_time.shape[0]"
   ]
  },
  {
   "cell_type": "markdown",
   "metadata": {},
   "source": [
    "<font size=\"14\">Wind Turbine blade instrumentation:</font>"
   ]
  },
  {
   "cell_type": "markdown",
   "metadata": {},
   "source": [
    "<img src=\"./WT-blade-instrumentation.png\" width=\"1000\"/>"
   ]
  },
  {
   "cell_type": "markdown",
   "metadata": {},
   "source": [
    "<font size=\"14\">Possible signals:</font>\n",
    "\n",
    "**Time vector**: 'X_Value';\n",
    "\n",
    "**Accelerometers**:  'Ch1', 'Ch2', 'Ch3', 'Ch4', 'Ch5', 'Ch6', 'Ch7', 'Ch8';\n",
    "\n",
    "**Strain gauges**: 'Strain_1', 'Strain_2', 'Strain_3_rosette_A', 'Strain_4_rosette_B', 'Strain_5_rosette_C', 'Strain_6_1', 'Strain_7_1', 'Strain_8', 'Strain_9_1_rosette_A', 'Strain_10_1_rosette_B', 'Strain_11_1_rosette_C', 'Strain_12_rosette_A', 'Strain_13_rosette_B', 'Strain_14_rosette_C', 'Strain_15_1', 'Strain_16_temp_comp', 'Strain_17_rosette_A', 'Strain_18_rosette_B', 'Strain_19_rosette_C', 'Strain_20_rosette_A', 'Strain_21_rosette_B', 'Strain_22_rosette_C', 'Strain_23', 'Strain_24';\n",
    "\n",
    "**Humidity sensors**: 'K7861_H', 'K7862_H';\n",
    "\n",
    "**Temperature sensors**: 'K7861_T', 'K7862_T';\n",
    "\n",
    "**Force transducer**: 'force';\n",
    "\n",
    "**Strain gauge for temperature compensation**: 'Strain_16_temp_comp (Filtered)';\n",
    "\n",
    "**Comments**: 'comment'."
   ]
  },
  {
   "cell_type": "markdown",
   "metadata": {},
   "source": [
    "## Plots"
   ]
  },
  {
   "cell_type": "markdown",
   "metadata": {},
   "source": [
    "Force plots in R case, sensing set-up 1 and temperature of 0 C degree (teal) e 40 C degrees (lavanda). The signals are response for the sine sweep (teal) and the first white noise frequency (lavanda) excitations, and are represented in their completeness (A, C) and in a window delimited by the orange line with the first 20 seconds of signal (B, D), in order to better detail the data"
   ]
  },
  {
   "cell_type": "code",
   "execution_count": null,
   "metadata": {},
   "outputs": [],
   "source": [
    "####\n",
    "case = 'R'\n",
    "temp = '(+00)'\n",
    "scheme = '1'\n",
    "wave = \"sine_sweep\"#'white_noise_1'\n",
    "cR_t0_s1_wSS = manager.load(case, temp, scheme, wave, flag_output=True)\n",
    "\n",
    "cR_t0_s1_wSS_time = get_signal(cR_t0_s1_wSS, \"X_Value\")\n",
    "cR_t0_s1_wSS_force = get_signal(cR_t0_s1_wSS, \"Ch7\")\n",
    "\n",
    "##### Selecting file #####\n",
    "case = 'D'\n",
    "temp = '(+00)'\n",
    "scheme = '1'\n",
    "wave = \"sine_sweep\"#'white_noise_1'\n",
    "cR_t40_s1_wWN1 = manager.load(case, temp, scheme, wave, flag_output=True)\n",
    "\n",
    "cR_t40_s1_wWN1_time = get_signal(cR_t40_s1_wWN1, \"X_Value\")\n",
    "cR_t40_s1_wWN1_force = get_signal(cR_t40_s1_wWN1, \"Ch7\")"
   ]
  },
  {
   "cell_type": "code",
   "execution_count": null,
   "metadata": {},
   "outputs": [],
   "source": [
    "font_size = 20\n",
    "line_width = 0.1\n",
    "fig_size = (20,12)\n",
    "textx = 0\n",
    "texty = 1.05\n",
    "zoom = 10\n",
    "\n",
    "fig, ax = plt.subplots(figsize=fig_size, nrows=2, ncols=2, gridspec_kw={'width_ratios': [4, 2]})\n",
    "fig.patch.set_facecolor('xkcd:white')\n",
    "ax = ax.flatten()\n",
    "\n",
    "# Force plot - Case R, Temperature 0, Layout 1, Sine Sweep\n",
    "final_index = approx(cR_t0_s1_wSS_time, zoom)\n",
    "c1, c2 = 'orange', 'k'\n",
    "\n",
    "no=0\n",
    "ax[no].plot(cR_t0_s1_wSS_time, cR_t0_s1_wSS_force, linewidth=line_width, color=c1)\n",
    "ax[no].tick_params(axis='both', labelsize=font_size);\n",
    "#ax[no].set_ylim([-7, 7]);\n",
    "ax[no].axvline(x=cR_t0_s1_wSS_time[final_index], linewidth=8*line_width, color = c2);\n",
    "ax[no].text(textx, texty, string.ascii_uppercase[no], transform=ax[no].transAxes, \n",
    "    size=font_size+4, weight='bold')\n",
    "\n",
    "no=1\n",
    "ax[no].plot(cR_t0_s1_wSS_time[:final_index], cR_t0_s1_wSS_force[:final_index], linewidth=line_width*3, color=c1)\n",
    "ax[no].tick_params(axis='both', labelsize=font_size);\n",
    "#ax[no].set_ylim([-7, 7]);\n",
    "ax[no].text(textx, texty, string.ascii_uppercase[no], transform=ax[no].transAxes, \n",
    "    size=font_size+4, weight='bold')\n",
    "\n",
    "final_index = approx(cR_t40_s1_wWN1_time, zoom)\n",
    "c1, c2 = 'orange', 'k'\n",
    "\n",
    "# Force plot - Case R, Temperature 40, Layout 1, White Noise 1\n",
    "no=2\n",
    "ax[no].plot(cR_t40_s1_wWN1_time, cR_t40_s1_wWN1_force, linewidth=line_width, color=c1)\n",
    "ax[no].tick_params(axis='both', labelsize=font_size);\n",
    "# ax[no].set_ylim([-7, 7]);\n",
    "ax[no].axvline(x=cR_t40_s1_wWN1_time[final_index], linewidth=8*line_width, color = c2);\n",
    "ax[no].text(textx, texty, string.ascii_uppercase[no], transform=ax[no].transAxes, \n",
    "    size=font_size+4, weight='bold')\n",
    "\n",
    "no=3\n",
    "ax[no].plot(cR_t40_s1_wWN1_time[:final_index], cR_t40_s1_wWN1_force[:final_index], linewidth=line_width*3, color=c1)\n",
    "ax[no].tick_params(axis='both', labelsize=font_size);\n",
    "# ax[no].set_ylim([-7, 7]);\n",
    "ax[no].text(textx, texty, string.ascii_uppercase[no], transform=ax[no].transAxes, \n",
    "    size=font_size+4, weight='bold')\n",
    "\n",
    "\n",
    "\n",
    "\n",
    "fig.tight_layout()\n",
    "plt.show()\n",
    "\n"
   ]
  },
  {
   "cell_type": "markdown",
   "metadata": {},
   "source": [
    "### PCA"
   ]
  },
  {
   "cell_type": "code",
   "execution_count": null,
   "metadata": {},
   "outputs": [],
   "source": [
    "# Dados coletados\n",
    "print(cR_t0_s1_wSS[0]['data'].shape)\n",
    "print(len(cR_t0_s1_wSS[0]['Channel names']))\n",
    "print(cR_t0_s1_wSS[0]['Channel names'])"
   ]
  },
  {
   "cell_type": "code",
   "execution_count": null,
   "metadata": {},
   "outputs": [],
   "source": [
    "# Extraindo os dados\n",
    "x_time = cR_t0_s1_wSS[0]['data'][:,0]\n",
    "print(x_time.shape)\n",
    "\n",
    "y_val = cR_t0_s1_wSS[0]['data'][:,1:]\n",
    "print(y_val.shape)"
   ]
  },
  {
   "cell_type": "code",
   "execution_count": null,
   "metadata": {},
   "outputs": [],
   "source": [
    "# Centralizando dados\n",
    "y_mean = np.mean(y_val,axis=0)\n",
    "print(y_mean.shape)\n",
    "\n",
    "M = y_val - y_mean\n",
    "print(M.shape)"
   ]
  },
  {
   "cell_type": "code",
   "execution_count": null,
   "metadata": {},
   "outputs": [],
   "source": [
    "#Matriz de covariancia\n",
    "Cov = M.T.dot(M) / (M.shape[-1] -1)\n",
    "Cov.shape"
   ]
  },
  {
   "cell_type": "code",
   "execution_count": null,
   "metadata": {},
   "outputs": [],
   "source": [
    "# Autovetores e autovalores\n",
    "eigval, eigvec = np.linalg.eig(Cov)\n",
    "eigval.shape, eigvec.shape"
   ]
  },
  {
   "cell_type": "code",
   "execution_count": null,
   "metadata": {},
   "outputs": [],
   "source": [
    "# Ordenando autovalores\n",
    "[(eigval[i], eigvec[:,i]) for i in range(len(eigval))].sort(reverse = True)\n",
    "eigval"
   ]
  },
  {
   "cell_type": "code",
   "execution_count": null,
   "metadata": {},
   "outputs": [],
   "source": [
    "# Variancia explicada\n",
    "total = sum(eigval)\n",
    "var_exp = eigval/total\n",
    "print(var_exp)\n",
    "\n",
    "cum_var_exp = np.cumsum(var_exp)\n",
    "print(cum_var_exp)"
   ]
  },
  {
   "cell_type": "code",
   "execution_count": null,
   "metadata": {},
   "outputs": [],
   "source": [
    "# Realizando PCA\n",
    "n = 5\n",
    "y_pca = np.dot(y_val,eigvec[0:n].T)\n",
    "y_pca"
   ]
  },
  {
   "cell_type": "code",
   "execution_count": null,
   "metadata": {},
   "outputs": [],
   "source": [
    "# PCA utilizando biblioteca\n",
    "from sklearn.decomposition import PCA\n",
    "pca = PCA(n_components=n)\n",
    "y_pca2 = pca.fit(y_val)\n",
    "\n",
    "print(\"Covariancia\")\n",
    "print(y_pca2.get_covariance())\n",
    "print(\"Componentes\")\n",
    "print(y_pca2.components_) # componentes = autovetores\n",
    "print(\"Variancia\")\n",
    "print(y_pca2.explained_variance_)\n",
    "print(y_pca2.explained_variance_ratio_)\n",
    "\n",
    "print(\"PCA\")\n",
    "y_pca2 = y_pca2.transform(y_val)\n",
    "print(y_pca2.shape)\n",
    "print(y_pca2)"
   ]
  },
  {
   "cell_type": "markdown",
   "metadata": {},
   "source": [
    "Testing"
   ]
  },
  {
   "cell_type": "code",
   "execution_count": null,
   "metadata": {},
   "outputs": [],
   "source": [
    "a = np.array([[1,1],[2,2],[3,3],[4,4],[5,5],[1.1,1.5],[3.3,2.2],[1.8,2.2],[4.5,4.1],[3.8,4.1]])\n",
    "a = a+100\n",
    "print(a)\n",
    "a.shape"
   ]
  },
  {
   "cell_type": "code",
   "execution_count": null,
   "metadata": {},
   "outputs": [],
   "source": [
    "plt.scatter(*zip(*a))"
   ]
  },
  {
   "cell_type": "code",
   "execution_count": null,
   "metadata": {},
   "outputs": [],
   "source": [
    "am = a\n",
    "am = a - a.mean()\n",
    "\n",
    "M = am.T.dot(am)\n",
    "print(M)\n",
    "\n",
    "eigval, eigvec = np.linalg.eig(M)\n",
    "print(eigval)\n",
    "print(eigvec)\n",
    "\n",
    "print(a.mean())"
   ]
  },
  {
   "cell_type": "code",
   "execution_count": null,
   "metadata": {},
   "outputs": [],
   "source": [
    "eigvec[:,1]=-eigvec[:,1]"
   ]
  },
  {
   "cell_type": "code",
   "execution_count": null,
   "metadata": {},
   "outputs": [],
   "source": [
    "pca = PCA(n_components=2)\n",
    "test_pca = pca.fit(a)\n",
    "test_pca.components_"
   ]
  },
  {
   "cell_type": "code",
   "execution_count": null,
   "metadata": {},
   "outputs": [],
   "source": []
  },
  {
   "cell_type": "markdown",
   "metadata": {},
   "source": [
    "Autoencoding"
   ]
  },
  {
   "cell_type": "code",
   "execution_count": null,
   "metadata": {},
   "outputs": [],
   "source": [
    "import tensorflow as tf\n",
    "from sklearn.metrics import accuracy_score, precision_score, recall_score\n",
    "from sklearn.model_selection import train_test_split\n",
    "from tensorflow.keras import layers, losses\n",
    "from tensorflow.keras.datasets import fashion_mnist\n",
    "from tensorflow.keras.models import Model\n",
    "from sklearn import preprocessing\n",
    "\n",
    "class Autoencoder(Model):\n",
    "    def __init__(self,latent_dim):\n",
    "        super(Autoencoder, self).__init__()\n",
    "        \n",
    "        self.latent_dim = latent_dim\n",
    "        self.encoder = tf.keras.Sequential([\n",
    "            layers.Dense(latent_dim, activation='relu'),\n",
    "        ])\n",
    "        self.decoder = tf.keras.Sequential([\n",
    "            layers.Dense(38, activation='sigmoid')\n",
    "        ])\n",
    "\n",
    "    def call(self, x):\n",
    "        encoded = self.encoder(x)\n",
    "        decoded = self.decoder(encoded)\n",
    "        return decoded\n",
    "\n",
    "autoencoder = Autoencoder(1)\n",
    "autoencoder.compile(optimizer='adam', loss=losses.MeanSquaredError())\n",
    "\n",
    "y_norm = preprocessing.Normalizer().fit_transform(y_val)\n",
    "y_train, y_test = train_test_split(y_norm)\n",
    "(y_train.shape,y_test.shape)"
   ]
  },
  {
   "cell_type": "code",
   "execution_count": null,
   "metadata": {},
   "outputs": [],
   "source": [
    "autoencoder.fit(y_train ,y_train , epochs = 10, validation_data = (y_test, y_test), validation_freq=2)"
   ]
  },
  {
   "cell_type": "code",
   "execution_count": null,
   "metadata": {},
   "outputs": [],
   "source": [
    "print(y_test[0],autoencoder(y_test[0:1])[0])"
   ]
  },
  {
   "cell_type": "code",
   "execution_count": null,
   "metadata": {},
   "outputs": [],
   "source": [
    "dif = y_test[0]-autoencoder(y_test[0:1])[0]\n",
    "print(dif)"
   ]
  },
  {
   "cell_type": "code",
   "execution_count": null,
   "metadata": {},
   "outputs": [],
   "source": [
    "np.array(dif**2).sum()/(y_test[0]**2).sum()"
   ]
  },
  {
   "cell_type": "code",
   "execution_count": null,
   "metadata": {},
   "outputs": [],
   "source": []
  },
  {
   "cell_type": "code",
   "execution_count": null,
   "metadata": {},
   "outputs": [],
   "source": []
  }
 ],
 "metadata": {
  "interpreter": {
   "hash": "b91d44d42d060115eff037e5d6774c9210750385c18c4a7546f5c0caefe849f0"
  },
  "kernelspec": {
   "display_name": "Python 3 (ipykernel)",
   "language": "python",
   "name": "python3"
  },
  "language_info": {
   "codemirror_mode": {
    "name": "ipython",
    "version": 3
   },
   "file_extension": ".py",
   "mimetype": "text/x-python",
   "name": "python",
   "nbconvert_exporter": "python",
   "pygments_lexer": "ipython3",
   "version": "3.9.13"
  }
 },
 "nbformat": 4,
 "nbformat_minor": 2
}
